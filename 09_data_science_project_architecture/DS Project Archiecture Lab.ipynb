{
 "cells": [
  {
   "cell_type": "code",
   "id": "3852edca-85e7-4f61-8ccf-4163e8be9522",
   "metadata": {
    "ExecuteTime": {
     "end_time": "2025-08-07T08:38:06.667427Z",
     "start_time": "2025-08-07T08:38:06.656427Z"
    }
   },
   "source": [
    "import pandas as pd\n",
    "import numpy as np\n",
    "import matplotlib.pyplot as plt"
   ],
   "outputs": [],
   "execution_count": 9
  },
  {
   "cell_type": "markdown",
   "id": "1985ac40-d91f-4214-8a75-d9ad4660887b",
   "metadata": {},
   "source": [
    "# Data Science Project Architecture\n",
    "## Getting a feel of an end-to-end data science solution"
   ]
  },
  {
   "cell_type": "markdown",
   "id": "47f67874-d20d-45ef-abe4-df2332080e11",
   "metadata": {},
   "source": [
    "In this lab, you'll see how all the pieces of data science: data analysis, code, tooling, experiments, come together to create a complete project. You'll perform a smaller-scale demonstration of a data science project lifecycle. Of course, you have to keep in mind that \"real-life\" data science is highly iterative. You might be working on the same task(s) for weeks or months - this lab is not able to show that.\n",
    "\n",
    "You'll be working with the asthma dataset located [here](https://www.kaggle.com/datasets/rabieelkharoua/asthma-disease-dataset). As always, it's preloaded for you in the `data/` directory. **Your main goal is to predict what factors lead to positive diagnosis.**\n",
    "\n",
    "This time, I suggest you do your research into separate notebooks, not inside this one. Use one or several, as you see fit; there are no guidelines as to how many notebooks you should have, or how long (or short) they have to be."
   ]
  },
  {
   "cell_type": "markdown",
   "id": "4a0c3885-cb90-456c-a34e-8c49ed2d8e50",
   "metadata": {},
   "source": [
    "### Problem 1. Project structure (1 point)\n",
    "Create the necessary directories and structure that you'll use to put your work in. I am providing a suggestion, but you don't have to follow it.\n",
    "`data/` for... data :D\n",
    "`notebooks/` for your research. Feel free to move this one inside.\n",
    "`src/` for Python code (which you'll need to create towards the end of the lab)\n",
    "`test/` (or `tests/`) for unit tests\n",
    "\n",
    "You may add any other structure you like. For inspiration, you can see how popular libraries handle their file structure.\n",
    "\n",
    "Create a GitHub repo (or any other Git-based source control, but I **highly** suggest GitHub) containing your initial project structure. Don't forget to commit relatively often so you have a way to track what you've done so far and go back if something goes awry."
   ]
  },
  {
   "metadata": {},
   "cell_type": "markdown",
   "source": "#### GitHub Repo: https://github.com/plamensve/Data_Science_Upskill_Softuni.git",
   "id": "96c79ac4c7e25c19"
  },
  {
   "metadata": {},
   "cell_type": "markdown",
   "source": "##### This repository was created for the entire course, but you can easily find the solution for the current homework",
   "id": "7be388b1c53b83a"
  },
  {
   "cell_type": "code",
   "id": "c7505475-3e54-4aec-981e-8ce46b10eb81",
   "metadata": {
    "ExecuteTime": {
     "end_time": "2025-08-07T08:38:06.697936Z",
     "start_time": "2025-08-07T08:38:06.686430Z"
    }
   },
   "source": [],
   "outputs": [],
   "execution_count": 9
  },
  {
   "cell_type": "markdown",
   "id": "0826a79c-e60b-4e88-9bcc-6e203e0f9ac1",
   "metadata": {},
   "source": [
    "### Problem 2. Data Exploration (1 point)\n",
    "In an appropriate notebook, load the data. Ensure its validity and start your EDA. Feel free to create any visualizations, tables, filters, etc. you see fit."
   ]
  },
  {
   "cell_type": "code",
   "id": "7080ec9a-e760-4235-bc51-5665940b19a3",
   "metadata": {
    "ExecuteTime": {
     "end_time": "2025-08-07T08:38:06.713936Z",
     "start_time": "2025-08-07T08:38:06.698937Z"
    }
   },
   "source": [
    "data = pd.read_csv('data/asthma_disease_data.csv')\n",
    "data"
   ],
   "outputs": [
    {
     "data": {
      "text/plain": [
       "      PatientID  Age  Gender  Ethnicity  EducationLevel        BMI  Smoking  \\\n",
       "0          5034   63       0          1               0  15.848744        0   \n",
       "1          5035   26       1          2               2  22.757042        0   \n",
       "2          5036   57       0          2               1  18.395396        0   \n",
       "3          5037   40       1          2               1  38.515278        0   \n",
       "4          5038   61       0          0               3  19.283802        0   \n",
       "...         ...  ...     ...        ...             ...        ...      ...   \n",
       "2387       7421   43       1          0               2  29.059613        0   \n",
       "2388       7422   18       1          0               1  20.740850        0   \n",
       "2389       7423   54       0          3               2  37.079560        0   \n",
       "2390       7424   46       1          0               2  23.444712        0   \n",
       "2391       7425   26       1          0               0  28.123021        1   \n",
       "\n",
       "      PhysicalActivity  DietQuality  SleepQuality  ...  LungFunctionFEV1  \\\n",
       "0             0.894448     5.488696      8.701003  ...          1.369051   \n",
       "1             5.897329     6.341014      5.153966  ...          2.197767   \n",
       "2             6.739367     9.196237      6.840647  ...          1.698011   \n",
       "3             1.404503     5.826532      4.253036  ...          3.032037   \n",
       "4             4.604493     3.127048      9.625799  ...          3.470589   \n",
       "...                ...          ...           ...  ...               ...   \n",
       "2387          3.019854     6.119637      8.300960  ...          3.125249   \n",
       "2388          5.805180     4.386992      7.731192  ...          1.132977   \n",
       "2389          4.735169     8.214064      7.483521  ...          1.685962   \n",
       "2390          9.672637     7.362861      6.717272  ...          3.481549   \n",
       "2391          1.613138     7.412878      8.512253  ...          2.280613   \n",
       "\n",
       "      LungFunctionFVC  Wheezing  ShortnessOfBreath  ChestTightness  Coughing  \\\n",
       "0            4.941206         0                  0               1         0   \n",
       "1            1.702393         1                  0               0         1   \n",
       "2            5.022553         1                  1               1         0   \n",
       "3            2.300159         1                  0               1         1   \n",
       "4            3.067944         1                  1               1         0   \n",
       "...               ...       ...                ...             ...       ...   \n",
       "2387         5.166032         0                  1               0         0   \n",
       "2388         5.509502         0                  0               0         1   \n",
       "2389         3.346877         1                  0               1         1   \n",
       "2390         1.713274         0                  1               1         0   \n",
       "2391         2.453284         1                  1               0         0   \n",
       "\n",
       "      NighttimeSymptoms  ExerciseInduced  Diagnosis  DoctorInCharge  \n",
       "0                     0                1          0       Dr_Confid  \n",
       "1                     1                1          0       Dr_Confid  \n",
       "2                     1                1          0       Dr_Confid  \n",
       "3                     1                0          0       Dr_Confid  \n",
       "4                     0                1          0       Dr_Confid  \n",
       "...                 ...              ...        ...             ...  \n",
       "2387                  0                1          1       Dr_Confid  \n",
       "2388                  1                0          1       Dr_Confid  \n",
       "2389                  0                1          1       Dr_Confid  \n",
       "2390                  1                1          0       Dr_Confid  \n",
       "2391                  1                0          0       Dr_Confid  \n",
       "\n",
       "[2392 rows x 29 columns]"
      ],
      "text/html": [
       "<div>\n",
       "<style scoped>\n",
       "    .dataframe tbody tr th:only-of-type {\n",
       "        vertical-align: middle;\n",
       "    }\n",
       "\n",
       "    .dataframe tbody tr th {\n",
       "        vertical-align: top;\n",
       "    }\n",
       "\n",
       "    .dataframe thead th {\n",
       "        text-align: right;\n",
       "    }\n",
       "</style>\n",
       "<table border=\"1\" class=\"dataframe\">\n",
       "  <thead>\n",
       "    <tr style=\"text-align: right;\">\n",
       "      <th></th>\n",
       "      <th>PatientID</th>\n",
       "      <th>Age</th>\n",
       "      <th>Gender</th>\n",
       "      <th>Ethnicity</th>\n",
       "      <th>EducationLevel</th>\n",
       "      <th>BMI</th>\n",
       "      <th>Smoking</th>\n",
       "      <th>PhysicalActivity</th>\n",
       "      <th>DietQuality</th>\n",
       "      <th>SleepQuality</th>\n",
       "      <th>...</th>\n",
       "      <th>LungFunctionFEV1</th>\n",
       "      <th>LungFunctionFVC</th>\n",
       "      <th>Wheezing</th>\n",
       "      <th>ShortnessOfBreath</th>\n",
       "      <th>ChestTightness</th>\n",
       "      <th>Coughing</th>\n",
       "      <th>NighttimeSymptoms</th>\n",
       "      <th>ExerciseInduced</th>\n",
       "      <th>Diagnosis</th>\n",
       "      <th>DoctorInCharge</th>\n",
       "    </tr>\n",
       "  </thead>\n",
       "  <tbody>\n",
       "    <tr>\n",
       "      <th>0</th>\n",
       "      <td>5034</td>\n",
       "      <td>63</td>\n",
       "      <td>0</td>\n",
       "      <td>1</td>\n",
       "      <td>0</td>\n",
       "      <td>15.848744</td>\n",
       "      <td>0</td>\n",
       "      <td>0.894448</td>\n",
       "      <td>5.488696</td>\n",
       "      <td>8.701003</td>\n",
       "      <td>...</td>\n",
       "      <td>1.369051</td>\n",
       "      <td>4.941206</td>\n",
       "      <td>0</td>\n",
       "      <td>0</td>\n",
       "      <td>1</td>\n",
       "      <td>0</td>\n",
       "      <td>0</td>\n",
       "      <td>1</td>\n",
       "      <td>0</td>\n",
       "      <td>Dr_Confid</td>\n",
       "    </tr>\n",
       "    <tr>\n",
       "      <th>1</th>\n",
       "      <td>5035</td>\n",
       "      <td>26</td>\n",
       "      <td>1</td>\n",
       "      <td>2</td>\n",
       "      <td>2</td>\n",
       "      <td>22.757042</td>\n",
       "      <td>0</td>\n",
       "      <td>5.897329</td>\n",
       "      <td>6.341014</td>\n",
       "      <td>5.153966</td>\n",
       "      <td>...</td>\n",
       "      <td>2.197767</td>\n",
       "      <td>1.702393</td>\n",
       "      <td>1</td>\n",
       "      <td>0</td>\n",
       "      <td>0</td>\n",
       "      <td>1</td>\n",
       "      <td>1</td>\n",
       "      <td>1</td>\n",
       "      <td>0</td>\n",
       "      <td>Dr_Confid</td>\n",
       "    </tr>\n",
       "    <tr>\n",
       "      <th>2</th>\n",
       "      <td>5036</td>\n",
       "      <td>57</td>\n",
       "      <td>0</td>\n",
       "      <td>2</td>\n",
       "      <td>1</td>\n",
       "      <td>18.395396</td>\n",
       "      <td>0</td>\n",
       "      <td>6.739367</td>\n",
       "      <td>9.196237</td>\n",
       "      <td>6.840647</td>\n",
       "      <td>...</td>\n",
       "      <td>1.698011</td>\n",
       "      <td>5.022553</td>\n",
       "      <td>1</td>\n",
       "      <td>1</td>\n",
       "      <td>1</td>\n",
       "      <td>0</td>\n",
       "      <td>1</td>\n",
       "      <td>1</td>\n",
       "      <td>0</td>\n",
       "      <td>Dr_Confid</td>\n",
       "    </tr>\n",
       "    <tr>\n",
       "      <th>3</th>\n",
       "      <td>5037</td>\n",
       "      <td>40</td>\n",
       "      <td>1</td>\n",
       "      <td>2</td>\n",
       "      <td>1</td>\n",
       "      <td>38.515278</td>\n",
       "      <td>0</td>\n",
       "      <td>1.404503</td>\n",
       "      <td>5.826532</td>\n",
       "      <td>4.253036</td>\n",
       "      <td>...</td>\n",
       "      <td>3.032037</td>\n",
       "      <td>2.300159</td>\n",
       "      <td>1</td>\n",
       "      <td>0</td>\n",
       "      <td>1</td>\n",
       "      <td>1</td>\n",
       "      <td>1</td>\n",
       "      <td>0</td>\n",
       "      <td>0</td>\n",
       "      <td>Dr_Confid</td>\n",
       "    </tr>\n",
       "    <tr>\n",
       "      <th>4</th>\n",
       "      <td>5038</td>\n",
       "      <td>61</td>\n",
       "      <td>0</td>\n",
       "      <td>0</td>\n",
       "      <td>3</td>\n",
       "      <td>19.283802</td>\n",
       "      <td>0</td>\n",
       "      <td>4.604493</td>\n",
       "      <td>3.127048</td>\n",
       "      <td>9.625799</td>\n",
       "      <td>...</td>\n",
       "      <td>3.470589</td>\n",
       "      <td>3.067944</td>\n",
       "      <td>1</td>\n",
       "      <td>1</td>\n",
       "      <td>1</td>\n",
       "      <td>0</td>\n",
       "      <td>0</td>\n",
       "      <td>1</td>\n",
       "      <td>0</td>\n",
       "      <td>Dr_Confid</td>\n",
       "    </tr>\n",
       "    <tr>\n",
       "      <th>...</th>\n",
       "      <td>...</td>\n",
       "      <td>...</td>\n",
       "      <td>...</td>\n",
       "      <td>...</td>\n",
       "      <td>...</td>\n",
       "      <td>...</td>\n",
       "      <td>...</td>\n",
       "      <td>...</td>\n",
       "      <td>...</td>\n",
       "      <td>...</td>\n",
       "      <td>...</td>\n",
       "      <td>...</td>\n",
       "      <td>...</td>\n",
       "      <td>...</td>\n",
       "      <td>...</td>\n",
       "      <td>...</td>\n",
       "      <td>...</td>\n",
       "      <td>...</td>\n",
       "      <td>...</td>\n",
       "      <td>...</td>\n",
       "      <td>...</td>\n",
       "    </tr>\n",
       "    <tr>\n",
       "      <th>2387</th>\n",
       "      <td>7421</td>\n",
       "      <td>43</td>\n",
       "      <td>1</td>\n",
       "      <td>0</td>\n",
       "      <td>2</td>\n",
       "      <td>29.059613</td>\n",
       "      <td>0</td>\n",
       "      <td>3.019854</td>\n",
       "      <td>6.119637</td>\n",
       "      <td>8.300960</td>\n",
       "      <td>...</td>\n",
       "      <td>3.125249</td>\n",
       "      <td>5.166032</td>\n",
       "      <td>0</td>\n",
       "      <td>1</td>\n",
       "      <td>0</td>\n",
       "      <td>0</td>\n",
       "      <td>0</td>\n",
       "      <td>1</td>\n",
       "      <td>1</td>\n",
       "      <td>Dr_Confid</td>\n",
       "    </tr>\n",
       "    <tr>\n",
       "      <th>2388</th>\n",
       "      <td>7422</td>\n",
       "      <td>18</td>\n",
       "      <td>1</td>\n",
       "      <td>0</td>\n",
       "      <td>1</td>\n",
       "      <td>20.740850</td>\n",
       "      <td>0</td>\n",
       "      <td>5.805180</td>\n",
       "      <td>4.386992</td>\n",
       "      <td>7.731192</td>\n",
       "      <td>...</td>\n",
       "      <td>1.132977</td>\n",
       "      <td>5.509502</td>\n",
       "      <td>0</td>\n",
       "      <td>0</td>\n",
       "      <td>0</td>\n",
       "      <td>1</td>\n",
       "      <td>1</td>\n",
       "      <td>0</td>\n",
       "      <td>1</td>\n",
       "      <td>Dr_Confid</td>\n",
       "    </tr>\n",
       "    <tr>\n",
       "      <th>2389</th>\n",
       "      <td>7423</td>\n",
       "      <td>54</td>\n",
       "      <td>0</td>\n",
       "      <td>3</td>\n",
       "      <td>2</td>\n",
       "      <td>37.079560</td>\n",
       "      <td>0</td>\n",
       "      <td>4.735169</td>\n",
       "      <td>8.214064</td>\n",
       "      <td>7.483521</td>\n",
       "      <td>...</td>\n",
       "      <td>1.685962</td>\n",
       "      <td>3.346877</td>\n",
       "      <td>1</td>\n",
       "      <td>0</td>\n",
       "      <td>1</td>\n",
       "      <td>1</td>\n",
       "      <td>0</td>\n",
       "      <td>1</td>\n",
       "      <td>1</td>\n",
       "      <td>Dr_Confid</td>\n",
       "    </tr>\n",
       "    <tr>\n",
       "      <th>2390</th>\n",
       "      <td>7424</td>\n",
       "      <td>46</td>\n",
       "      <td>1</td>\n",
       "      <td>0</td>\n",
       "      <td>2</td>\n",
       "      <td>23.444712</td>\n",
       "      <td>0</td>\n",
       "      <td>9.672637</td>\n",
       "      <td>7.362861</td>\n",
       "      <td>6.717272</td>\n",
       "      <td>...</td>\n",
       "      <td>3.481549</td>\n",
       "      <td>1.713274</td>\n",
       "      <td>0</td>\n",
       "      <td>1</td>\n",
       "      <td>1</td>\n",
       "      <td>0</td>\n",
       "      <td>1</td>\n",
       "      <td>1</td>\n",
       "      <td>0</td>\n",
       "      <td>Dr_Confid</td>\n",
       "    </tr>\n",
       "    <tr>\n",
       "      <th>2391</th>\n",
       "      <td>7425</td>\n",
       "      <td>26</td>\n",
       "      <td>1</td>\n",
       "      <td>0</td>\n",
       "      <td>0</td>\n",
       "      <td>28.123021</td>\n",
       "      <td>1</td>\n",
       "      <td>1.613138</td>\n",
       "      <td>7.412878</td>\n",
       "      <td>8.512253</td>\n",
       "      <td>...</td>\n",
       "      <td>2.280613</td>\n",
       "      <td>2.453284</td>\n",
       "      <td>1</td>\n",
       "      <td>1</td>\n",
       "      <td>0</td>\n",
       "      <td>0</td>\n",
       "      <td>1</td>\n",
       "      <td>0</td>\n",
       "      <td>0</td>\n",
       "      <td>Dr_Confid</td>\n",
       "    </tr>\n",
       "  </tbody>\n",
       "</table>\n",
       "<p>2392 rows × 29 columns</p>\n",
       "</div>"
      ]
     },
     "execution_count": 10,
     "metadata": {},
     "output_type": "execute_result"
    }
   ],
   "execution_count": 10
  },
  {
   "metadata": {},
   "cell_type": "markdown",
   "source": "##### Checking the main structure of the dataset",
   "id": "e768c4b85903dc41"
  },
  {
   "metadata": {
    "ExecuteTime": {
     "end_time": "2025-08-07T08:38:06.728936Z",
     "start_time": "2025-08-07T08:38:06.713936Z"
    }
   },
   "cell_type": "code",
   "source": [
    "data_len = len(data)\n",
    "data_shape = data.shape"
   ],
   "id": "72f7b9946685eb00",
   "outputs": [],
   "execution_count": 11
  },
  {
   "metadata": {},
   "cell_type": "markdown",
   "source": "##### Separated the patients into groups",
   "id": "72f92d55773f29ac"
  },
  {
   "metadata": {
    "ExecuteTime": {
     "end_time": "2025-08-07T08:49:04.979249Z",
     "start_time": "2025-08-07T08:49:04.960939Z"
    }
   },
   "cell_type": "code",
   "source": [
    "#We need PatientID and Age to separate the patients\n",
    "patient_grouped_by_id_and_age = data[['PatientID', 'Age']].copy()\n",
    "patient_grouped_by_id_and_age"
   ],
   "id": "5ce41a8fa9609deb",
   "outputs": [
    {
     "data": {
      "text/plain": [
       "      PatientID  Age\n",
       "0          5034   63\n",
       "1          5035   26\n",
       "2          5036   57\n",
       "3          5037   40\n",
       "4          5038   61\n",
       "...         ...  ...\n",
       "2387       7421   43\n",
       "2388       7422   18\n",
       "2389       7423   54\n",
       "2390       7424   46\n",
       "2391       7425   26\n",
       "\n",
       "[2392 rows x 2 columns]"
      ],
      "text/html": [
       "<div>\n",
       "<style scoped>\n",
       "    .dataframe tbody tr th:only-of-type {\n",
       "        vertical-align: middle;\n",
       "    }\n",
       "\n",
       "    .dataframe tbody tr th {\n",
       "        vertical-align: top;\n",
       "    }\n",
       "\n",
       "    .dataframe thead th {\n",
       "        text-align: right;\n",
       "    }\n",
       "</style>\n",
       "<table border=\"1\" class=\"dataframe\">\n",
       "  <thead>\n",
       "    <tr style=\"text-align: right;\">\n",
       "      <th></th>\n",
       "      <th>PatientID</th>\n",
       "      <th>Age</th>\n",
       "    </tr>\n",
       "  </thead>\n",
       "  <tbody>\n",
       "    <tr>\n",
       "      <th>0</th>\n",
       "      <td>5034</td>\n",
       "      <td>63</td>\n",
       "    </tr>\n",
       "    <tr>\n",
       "      <th>1</th>\n",
       "      <td>5035</td>\n",
       "      <td>26</td>\n",
       "    </tr>\n",
       "    <tr>\n",
       "      <th>2</th>\n",
       "      <td>5036</td>\n",
       "      <td>57</td>\n",
       "    </tr>\n",
       "    <tr>\n",
       "      <th>3</th>\n",
       "      <td>5037</td>\n",
       "      <td>40</td>\n",
       "    </tr>\n",
       "    <tr>\n",
       "      <th>4</th>\n",
       "      <td>5038</td>\n",
       "      <td>61</td>\n",
       "    </tr>\n",
       "    <tr>\n",
       "      <th>...</th>\n",
       "      <td>...</td>\n",
       "      <td>...</td>\n",
       "    </tr>\n",
       "    <tr>\n",
       "      <th>2387</th>\n",
       "      <td>7421</td>\n",
       "      <td>43</td>\n",
       "    </tr>\n",
       "    <tr>\n",
       "      <th>2388</th>\n",
       "      <td>7422</td>\n",
       "      <td>18</td>\n",
       "    </tr>\n",
       "    <tr>\n",
       "      <th>2389</th>\n",
       "      <td>7423</td>\n",
       "      <td>54</td>\n",
       "    </tr>\n",
       "    <tr>\n",
       "      <th>2390</th>\n",
       "      <td>7424</td>\n",
       "      <td>46</td>\n",
       "    </tr>\n",
       "    <tr>\n",
       "      <th>2391</th>\n",
       "      <td>7425</td>\n",
       "      <td>26</td>\n",
       "    </tr>\n",
       "  </tbody>\n",
       "</table>\n",
       "<p>2392 rows × 2 columns</p>\n",
       "</div>"
      ]
     },
     "execution_count": 20,
     "metadata": {},
     "output_type": "execute_result"
    }
   ],
   "execution_count": 20
  },
  {
   "metadata": {
    "ExecuteTime": {
     "end_time": "2025-08-07T08:52:06.886360Z",
     "start_time": "2025-08-07T08:52:06.794857Z"
    }
   },
   "cell_type": "code",
   "source": [
    "bins = [0, 12, 17, 39, 64, 74, float('inf')]\n",
    "labels = ['children [0–12]', 'teenagers [13–17]', 'young_adults [18–39]', 'middle_aged_adults [40–64]', 'older_adults [65–74]', 'elderly [75+]']\n",
    "\n",
    "patient_grouped_by_id_and_age['age_group'] = pd.cut(patient_grouped_by_id_and_age['Age'], bins=bins, labels=labels)\n",
    "age_group_counts = patient_grouped_by_id_and_age['age_group'].value_counts().sort_index()\n",
    "\n",
    "plt.figure(figsize=(10, 7))\n",
    "age_group_counts.plot(kind='bar')\n",
    "\n",
    "plt.title('Patients by Age Group')\n",
    "plt.xlabel('Age Group')\n",
    "plt.ylabel('Number of Patients')\n",
    "plt.xticks(rotation=45)\n",
    "plt.tight_layout()\n",
    "plt.show()"
   ],
   "id": "426b5d5e444ed4bb",
   "outputs": [
    {
     "data": {
      "text/plain": [
       "<Figure size 1000x700 with 1 Axes>"
      ],
      "image/png": "[encoded data removed]"
     },
     "metadata": {},
     "output_type": "display_data"
    }
   ],
   "execution_count": 26
  },
  {
   "metadata": {
    "ExecuteTime": {
     "end_time": "2025-08-07T09:17:13.648258Z",
     "start_time": "2025-08-07T09:17:13.586216Z"
    }
   },
   "cell_type": "code",
   "source": [
    "patient_grouped_by_gender = data[['PatientID', 'Gender']].copy()\n",
    "\n",
    "gender_group_counts = patient_grouped_by_gender['Gender'].value_counts().sort_index()\n",
    "\n",
    "gender_group_counts.index = gender_group_counts.index.map({0: 'male', 1: 'female'})\n",
    "\n",
    "plt.figure(figsize=(6, 5))\n",
    "ax = gender_group_counts.plot(kind='bar', color=['skyblue', 'lightpink'])\n",
    "\n",
    "plt.title('Patients by Gender')\n",
    "plt.xlabel('Gender')\n",
    "plt.ylabel('Number of Patients')\n",
    "plt.xticks(rotation=0)\n",
    "plt.tight_layout()\n",
    "\n",
    "ax.bar_label(ax.containers[0])\n",
    "\n",
    "plt.show()"
   ],
   "id": "98bc32ed71143b7a",
   "outputs": [
    {
     "data": {
      "text/plain": [
       "<Figure size 600x500 with 1 Axes>"
      ],
      "image/png": "[encoded data removed]"
     },
     "metadata": {},
     "output_type": "display_data"
    }
   ],
   "execution_count": 35
  },
  {
   "metadata": {
    "ExecuteTime": {
     "end_time": "2025-08-07T09:24:23.091191Z",
     "start_time": "2025-08-07T09:24:22.926679Z"
    }
   },
   "cell_type": "code",
   "source": [
    "patient_grouped = data[['PatientID', 'Age', 'Gender']].copy()\n",
    "patient_grouped['Gender'] = patient_grouped['Gender'].map({0: 'male', 1: 'female'})\n",
    "\n",
    "bins = [0, 12, 17, 39, 64, 74, float('inf')]\n",
    "labels = ['children [0–12]', 'teenagers [13–17]', 'young_adults [18–39]',\n",
    "          'middle_aged_adults [40–64]', 'older_adults [65–74]', 'elderly [75+]']\n",
    "\n",
    "patient_grouped['age_group'] = pd.cut(patient_grouped['Age'], bins=bins, labels=labels)\n",
    "\n",
    "grouped = patient_grouped.groupby(['age_group', 'Gender'], observed=True).size().unstack(fill_value=0)\n",
    "\n",
    "ax = grouped.plot(kind='bar', figsize=(10, 8), color=['skyblue', 'lightpink'])\n",
    "\n",
    "plt.title('Patients by Age Group and Gender')\n",
    "plt.xlabel('Age Group')\n",
    "plt.ylabel('Number of Patients')\n",
    "plt.xticks(rotation=45)\n",
    "plt.legend(title='Gender')\n",
    "plt.tight_layout()\n",
    "\n",
    "for container in ax.containers:\n",
    "    ax.bar_label(container, label_type='edge')\n",
    "\n",
    "plt.show()"
   ],
   "id": "ae8fe233e86e2c1",
   "outputs": [
    {
     "data": {
      "text/plain": [
       "<Figure size 1000x800 with 1 Axes>"
      ],
      "image/png": "[encoded data removed]"
     },
     "metadata": {},
     "output_type": "display_data"
    }
   ],
   "execution_count": 51
  },
  {
   "cell_type": "markdown",
   "id": "6012b94f-539f-4013-837e-ed50d2b5ba0d",
   "metadata": {},
   "source": [
    "### Problem 3. Data cleaning and preprocessing (1 point)\n",
    "This should be self-explanatory. In an appropriate notebook (probably different than your previous one), explore different ways to clean and preprocess the dataset.\n",
    "\n",
    "This is still part of your research. That is, don't be afraid to _try out different approaches to the same problem_. E.g., if you have a lot of missing values, you may not know right away how to handle them. Experimenting with several approaches will give you a better indication what works well for your data and goals."
   ]
  },
  {
   "cell_type": "code",
   "id": "02634f0e-11e4-413b-add1-df660f92947b",
   "metadata": {},
   "source": [],
   "outputs": [],
   "execution_count": null
  },
  {
   "cell_type": "markdown",
   "id": "4825c9c4-570b-488c-b13d-41e494713853",
   "metadata": {},
   "source": [
    "### Problem 4. Exploratory data analysis (1 point)\n",
    "This step may, or may not, happen in unison with the previous one. Your goal is to understand the data distributions, relationships, useful features, maybe create visualizations and inform your data cleaning process."
   ]
  },
  {
   "cell_type": "code",
   "id": "2576b6cc-5e97-4df6-ad0c-2748bb1ba76b",
   "metadata": {
    "ExecuteTime": {
     "end_time": "2025-08-07T08:38:06.762937Z",
     "start_time": "2025-08-07T08:38:06.761937Z"
    }
   },
   "source": [],
   "outputs": [],
   "execution_count": null
  },
  {
   "cell_type": "markdown",
   "id": "feacc8f7-a0f5-46b8-9967-9136eeb9fc8f",
   "metadata": {},
   "source": [
    "### Problem 5. Feature manipulation (1 point)\n",
    "Now that your data has been thoroughly cleaned (w.r.t. your goal to model diagnoses) and explored, you'll need to \"play around\" and prepare good features.\n",
    "\n",
    "You don't have to think about modelling (machine learning) at this stage (although it won't do harm). Perform feature selection and feature engineering in ways that you think will be beneficial for a \"mental\" model of the data. Such a model consists of hypotheses that you should be able to test.\n",
    "\n",
    "Feel free to do any sort of feature maniplulation on the data you like. Ideally, at the end of the process, you'll have a rectangular data table consisting of only (floating-point) numbers and nothing else."
   ]
  },
  {
   "cell_type": "code",
   "id": "0b7105ce-1d14-422a-9703-dfa65d14a214",
   "metadata": {},
   "source": [],
   "outputs": [],
   "execution_count": null
  },
  {
   "cell_type": "markdown",
   "id": "9a4df3d0-b222-48f6-8af7-013ef8e84344",
   "metadata": {},
   "source": [
    "### Problem 6. Data preparation and manipulation script (2 points)\n",
    "So far, you should have tried lots of different ways to work with the data. Some of them should have been good, others - not so much. This is extremely valuable research, and we don't want to lose it, but now we have to think about automation.\n",
    "\n",
    "Extract your data preprocessing and manipulation functions into one or more files in the `src/` (or similar) directory. Debug the code and ensure it's been optimized. Use vectorization and the `pandas` / `numpy` APIs as much as possible. I don't usually expect data processing scripts to create visualizations. Most often, they consist of functions which accept some dataframe(s) and return (an)other dataframe(s). Also, we usually avoid one-liners (e.g., a function which only calls a different function) unless there's a very good reason for them (e.g., it's semantically easier to understand).\n",
    "\n",
    "Refactor the code so that it's **reusable**. Function parameters (and polymorphism) achieve a lot in terms of reusability :). Avoid hardcoding stuff. Follow the best practices in Python and the style guides. Use a linter to help you clean up your code."
   ]
  },
  {
   "cell_type": "code",
   "id": "ce2bd3da-9534-4067-b65c-300f23f52c7b",
   "metadata": {
    "ExecuteTime": {
     "end_time": "2025-08-07T08:38:06.763937Z",
     "start_time": "2025-08-07T08:38:06.763937Z"
    }
   },
   "source": [],
   "outputs": [],
   "execution_count": null
  },
  {
   "cell_type": "markdown",
   "id": "1a20ac09-21bc-4730-8986-3e186863c4ba",
   "metadata": {},
   "source": [
    "### Problem 7. Documentation (1 point)\n",
    "Ensure all your public-facing functions (that is, functions that are \"exposed\" to the user) have docstrings. Ensure they are well-documented and their purpose is clear. This is especially valuable if you're doing some advanced analysis or data manipulation. You can see various ways of creating docstrings online. There are even tools (e.g., VSCode extensions) which will help you with the docstring boilerplate."
   ]
  },
  {
   "cell_type": "code",
   "id": "c90cd4a5-ee2a-485f-bdab-07e5e1d034d8",
   "metadata": {
    "ExecuteTime": {
     "end_time": "2025-08-07T08:38:06.764938Z",
     "start_time": "2025-08-07T08:38:06.763937Z"
    }
   },
   "source": [],
   "outputs": [],
   "execution_count": null
  },
  {
   "cell_type": "markdown",
   "id": "816f155c-98dd-4b59-ac8e-c429e760e75d",
   "metadata": {},
   "source": [
    "### Problem 8. Testing (1 point)\n",
    "Now that you've done the previous two problems, you have _specification_ (your documentation - it tells you what you intend to do) and _implementation_ (your well-written and refactored code - it tells you _how_ it's done). The difficult part now is to ensure these two things match.\n",
    "\n",
    "Create unit tests for your functions. Be careful so you test _your_ code, not `pandas`'. Create hypothesis tests to validate your assumptions. Do validity checks on the input data and sanity checks on the outputs of functions. Ensure your code is well-tested. Ensure it's modular, reusable, and flexible; but most of all - that it works **correctly**. If you haven't yet (though you should have - in problem 6) - think about exceptions and exception handling."
   ]
  },
  {
   "cell_type": "code",
   "id": "1416eef1-00d7-4574-ace4-ffe3428b043f",
   "metadata": {},
   "source": [],
   "outputs": [],
   "execution_count": null
  },
  {
   "cell_type": "markdown",
   "id": "bc2a89bc-7a03-450e-a1a3-ca163f4f8fe6",
   "metadata": {},
   "source": [
    "### Problem 9. Reproducibility (1 point)\n",
    "Ensure all your notebooks and scripts are not only correct, but also reproducible. List all code dependencies (probably in a `requirements.txt` file); ensure your random seeds are correct; ensure the code produces the same results when run multiple times, etc.\n",
    "\n",
    "Do your final cleanup work. You might want to differentiate your \"draft\" noteoboks from your \"official\" ones (although I advise against that) and creat your final commits."
   ]
  },
  {
   "cell_type": "code",
   "id": "aad899c1-a7bc-480a-a71b-49337ded85bb",
   "metadata": {
    "ExecuteTime": {
     "end_time": "2025-08-07T08:38:06.776939Z",
     "start_time": "2025-08-07T08:38:06.766937Z"
    }
   },
   "source": [],
   "outputs": [],
   "execution_count": 13
  },
  {
   "cell_type": "markdown",
   "id": "d0491a01-a205-4713-87ee-d1e6d2dbf072",
   "metadata": {},
   "source": [
    "### * Problem 10. Above and beyond\n",
    "Of course, there are many things to be done. If you have time, I advise you learn how to work with data versioning (using DVC) and data pipeline / artifact tracking (using MLFlow or a similar tool). You might also find it useful to create a \"proper\", advanced data pipeline where you may need to work with big files (using Dask or a similar library), or schedule and organize tasks (using data pipeline managers like Luigi or Airflow).\n",
    "\n",
    "You might also want to do machine learning. I've deliberately stayed away from that for the purposes of the lab because it's a whole different beast, but it's a worthy challenge and it's extremely interesting."
   ]
  },
  {
   "cell_type": "code",
   "id": "f1d6bb04-06e0-4075-abcc-5bba12e97476",
   "metadata": {
    "ExecuteTime": {
     "end_time": "2025-08-07T08:38:06.824180Z",
     "start_time": "2025-08-07T08:38:06.813181Z"
    }
   },
   "source": [],
   "outputs": [],
   "execution_count": 13
  }
 ],
 "metadata": {
  "kernelspec": {
   "display_name": "Python 3 (ipykernel)",
   "language": "python",
   "name": "python3"
  },
  "language_info": {
   "codemirror_mode": {
    "name": "ipython",
    "version": 3
   },
   "file_extension": ".py",
   "mimetype": "text/x-python",
   "name": "python",
   "nbconvert_exporter": "python",
   "pygments_lexer": "ipython3",
   "version": "3.11.8"
  }
 },
 "nbformat": 4,
 "nbformat_minor": 5
}
